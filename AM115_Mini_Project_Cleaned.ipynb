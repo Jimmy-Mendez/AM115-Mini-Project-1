{
  "nbformat": 4,
  "nbformat_minor": 0,
  "metadata": {
    "colab": {
      "provenance": []
    },
    "kernelspec": {
      "name": "python3",
      "display_name": "Python 3"
    },
    "language_info": {
      "name": "python"
    }
  },
  "cells": [
    {
      "cell_type": "markdown",
      "source": [
        "# AM115 Mini Project: Tennis Modelling"
      ],
      "metadata": {
        "id": "bTTtEw8xxkzY"
      }
    },
    {
      "cell_type": "markdown",
      "source": [
        "## Data Collection and Preprocessing"
      ],
      "metadata": {
        "id": "bUA7ptRaxs0Z"
      }
    },
    {
      "cell_type": "code",
      "source": [
        "!git clone https://github.com/Jimmy-Mendez/AM115-Mini-Project-1.git\n",
        "\n",
        "DATA_PATH = 'AM115-Mini-Project-1/'"
      ],
      "metadata": {
        "colab": {
          "base_uri": "https://localhost:8080/"
        },
        "id": "pNpOmTQrz3v3",
        "outputId": "32b586d4-c65d-424d-ae27-aac74b60d347"
      },
      "execution_count": 1,
      "outputs": [
        {
          "output_type": "stream",
          "name": "stdout",
          "text": [
            "Cloning into 'AM115-Mini-Project-1'...\n",
            "remote: Enumerating objects: 9, done.\u001b[K\n",
            "remote: Counting objects: 100% (9/9), done.\u001b[K\n",
            "remote: Compressing objects: 100% (9/9), done.\u001b[K\n",
            "remote: Total 9 (delta 1), reused 0 (delta 0), pack-reused 0\u001b[K\n",
            "Receiving objects: 100% (9/9), 6.24 MiB | 4.07 MiB/s, done.\n",
            "Resolving deltas: 100% (1/1), done.\n"
          ]
        }
      ]
    },
    {
      "cell_type": "code",
      "execution_count": 2,
      "metadata": {
        "id": "mDaUIJi2xjWl"
      },
      "outputs": [],
      "source": [
        "import pandas as pd\n",
        "\n",
        "with open(DATA_PATH+'match_scores_1877-1967_unindexed.csv', 'r') as fh:\n",
        "    scores = pd.read_csv(fh)\n",
        "with open(DATA_PATH+'match_scores_1968-1990_unindexed.csv', 'r') as fh:\n",
        "    scores_2 = pd.read_csv(fh)\n",
        "with open(DATA_PATH+'match_scores_1991-2016_unindexed.csv', 'r') as fh:\n",
        "    scores_3 = pd.read_csv(fh)\n",
        "with open(DATA_PATH+'tournaments_1877-2017_unindexed.csv', 'r') as fh:\n",
        "    tourn = pd.read_csv(fh)"
      ]
    },
    {
      "cell_type": "code",
      "source": [
        "scores = pd.concat([scores, scores_2], ignore_index=True)\n",
        "scores = pd.concat([scores, scores_3], ignore_index=True)\n",
        "print(scores.columns)\n",
        "print(tourn.columns)\n",
        "print([x for x in scores.columns if x in tourn.columns])"
      ],
      "metadata": {
        "id": "xGbC__2oxzoZ",
        "colab": {
          "base_uri": "https://localhost:8080/"
        },
        "outputId": "fcb1e18c-d464-487e-e834-17f066e3289f"
      },
      "execution_count": 3,
      "outputs": [
        {
          "output_type": "stream",
          "name": "stdout",
          "text": [
            "Index(['tourney_year_id', 'tourney_order', 'tourney_slug',\n",
            "       'tourney_url_suffix', 'tourney_round_name', 'round_order',\n",
            "       'match_order', 'winner_name', 'winner_player_id', 'winner_slug',\n",
            "       'loser_name', 'loser_player_id', 'loser_slug', 'winner_seed',\n",
            "       'loser_seed', 'match_score_tiebreaks', 'winner_sets_won',\n",
            "       'loser_sets_won', 'winner_games_won', 'loser_games_won',\n",
            "       'winner_tiebreaks_won', 'loser_tiebreaks_won', 'match_id',\n",
            "       'match_stats_url_suffix'],\n",
            "      dtype='object')\n",
            "Index(['tourney_year', 'tourney_order', 'tourney_name', 'tourney_id',\n",
            "       'tourney_slug', 'tourney_location', 'tourney_dates', 'tourney_month',\n",
            "       'tourney_day', 'tourney_singles_draw', 'tourney_doubles_draw',\n",
            "       'tourney_conditions', 'tourney_surface', 'tourney_fin_commit',\n",
            "       'tourney_url_suffix', 'singles_winner_name', 'singles_winner_url',\n",
            "       'singles_winner_player_slug', 'singles_winner_player_id',\n",
            "       'doubles_winner_1_name', 'doubles_winner_1_url',\n",
            "       'doubles_winner_1_player_slug', 'doubles_winner_1_player_id',\n",
            "       'doubles_winner_2_name', 'doubles_winner_2_url',\n",
            "       'doubles_winner_2_player_slug', 'doubles_winner_2_player_id',\n",
            "       'tourney_year_id'],\n",
            "      dtype='object')\n",
            "['tourney_year_id', 'tourney_order', 'tourney_slug', 'tourney_url_suffix']\n"
          ]
        }
      ]
    },
    {
      "cell_type": "code",
      "source": [
        "new_data = scores.merge(tourn, on = ['tourney_year_id', 'tourney_order', 'tourney_slug', 'tourney_url_suffix'])\n",
        "print(new_data.head())"
      ],
      "metadata": {
        "id": "eZi60Yxmx1k4",
        "colab": {
          "base_uri": "https://localhost:8080/"
        },
        "outputId": "22c5ebe1-b660-4f30-b8c3-abc15ae582fa"
      },
      "execution_count": 4,
      "outputs": [
        {
          "output_type": "stream",
          "name": "stdout",
          "text": [
            "  tourney_year_id  tourney_order tourney_slug  \\\n",
            "0        1877-540              1    wimbledon   \n",
            "1        1877-540              1    wimbledon   \n",
            "2        1877-540              1    wimbledon   \n",
            "3        1877-540              1    wimbledon   \n",
            "4        1877-540              1    wimbledon   \n",
            "\n",
            "                              tourney_url_suffix tourney_round_name  \\\n",
            "0  /en/scores/archive/wimbledon/540/1877/results             Finals   \n",
            "1  /en/scores/archive/wimbledon/540/1877/results        Semi-Finals   \n",
            "2  /en/scores/archive/wimbledon/540/1877/results     Quarter-Finals   \n",
            "3  /en/scores/archive/wimbledon/540/1877/results     Quarter-Finals   \n",
            "4  /en/scores/archive/wimbledon/540/1877/results     Quarter-Finals   \n",
            "\n",
            "   round_order  match_order       winner_name winner_player_id  \\\n",
            "0            1            1      Spencer Gore             gi91   \n",
            "1            2            1      Spencer Gore             gi91   \n",
            "2            3            1      Spencer Gore             gi91   \n",
            "3            3            2      C. Heathcote             hg42   \n",
            "4            3            3  William Marshall             mu62   \n",
            "\n",
            "        winner_slug  ... singles_winner_player_slug singles_winner_player_id  \\\n",
            "0      spencer-gore  ...               spencer-gore                     gi91   \n",
            "1      spencer-gore  ...               spencer-gore                     gi91   \n",
            "2      spencer-gore  ...               spencer-gore                     gi91   \n",
            "3       c-heathcote  ...               spencer-gore                     gi91   \n",
            "4  william-marshall  ...               spencer-gore                     gi91   \n",
            "\n",
            "  doubles_winner_1_name doubles_winner_1_url doubles_winner_1_player_slug  \\\n",
            "0                   NaN                  NaN                          NaN   \n",
            "1                   NaN                  NaN                          NaN   \n",
            "2                   NaN                  NaN                          NaN   \n",
            "3                   NaN                  NaN                          NaN   \n",
            "4                   NaN                  NaN                          NaN   \n",
            "\n",
            "  doubles_winner_1_player_id  doubles_winner_2_name  doubles_winner_2_url  \\\n",
            "0                        NaN                    NaN                   NaN   \n",
            "1                        NaN                    NaN                   NaN   \n",
            "2                        NaN                    NaN                   NaN   \n",
            "3                        NaN                    NaN                   NaN   \n",
            "4                        NaN                    NaN                   NaN   \n",
            "\n",
            "   doubles_winner_2_player_slug  doubles_winner_2_player_id  \n",
            "0                           NaN                         NaN  \n",
            "1                           NaN                         NaN  \n",
            "2                           NaN                         NaN  \n",
            "3                           NaN                         NaN  \n",
            "4                           NaN                         NaN  \n",
            "\n",
            "[5 rows x 48 columns]\n"
          ]
        }
      ]
    },
    {
      "cell_type": "code",
      "source": [
        "print(new_data[['match_score_tiebreaks','winner_sets_won','loser_sets_won','winner_games_won','loser_games_won']])"
      ],
      "metadata": {
        "id": "nozjhD9Vx577",
        "colab": {
          "base_uri": "https://localhost:8080/"
        },
        "outputId": "5f213ffc-7cf1-4499-ec31-85b8bb37b875"
      },
      "execution_count": 5,
      "outputs": [
        {
          "output_type": "stream",
          "name": "stdout",
          "text": [
            "       match_score_tiebreaks  winner_sets_won  loser_sets_won  \\\n",
            "0                   61 62 64                3               0   \n",
            "1                   62 65 62                3               0   \n",
            "2                63 62 56 61                3               1   \n",
            "3                   63 63 65                3               0   \n",
            "4                65 56 64 61                3               1   \n",
            "...                      ...              ...             ...   \n",
            "188379              63 16 64                2               1   \n",
            "188380                 63 62                2               0   \n",
            "188381                 62 63                2               0   \n",
            "188382          67(10) 60 62                2               1   \n",
            "188383                 63 64                2               0   \n",
            "\n",
            "        winner_games_won  loser_games_won  \n",
            "0                     18                7  \n",
            "1                     18                9  \n",
            "2                     23               12  \n",
            "3                     18               11  \n",
            "4                     23               16  \n",
            "...                  ...              ...  \n",
            "188379                13               13  \n",
            "188380                12                5  \n",
            "188381                12                5  \n",
            "188382                18                9  \n",
            "188383                12                7  \n",
            "\n",
            "[188384 rows x 5 columns]\n"
          ]
        }
      ]
    },
    {
      "cell_type": "code",
      "source": [
        "print(new_data[['match_score_tiebreaks']])"
      ],
      "metadata": {
        "id": "61Elvl98x64B",
        "colab": {
          "base_uri": "https://localhost:8080/"
        },
        "outputId": "9b4fbabc-0e66-40c6-c55c-3c0a3c048fd5"
      },
      "execution_count": 6,
      "outputs": [
        {
          "output_type": "stream",
          "name": "stdout",
          "text": [
            "       match_score_tiebreaks\n",
            "0                   61 62 64\n",
            "1                   62 65 62\n",
            "2                63 62 56 61\n",
            "3                   63 63 65\n",
            "4                65 56 64 61\n",
            "...                      ...\n",
            "188379              63 16 64\n",
            "188380                 63 62\n",
            "188381                 62 63\n",
            "188382          67(10) 60 62\n",
            "188383                 63 64\n",
            "\n",
            "[188384 rows x 1 columns]\n"
          ]
        }
      ]
    },
    {
      "cell_type": "markdown",
      "source": [
        "## Tennis Game Modelling"
      ],
      "metadata": {
        "id": "DKywnmZ6x8Ih"
      }
    },
    {
      "cell_type": "markdown",
      "source": [
        "### Data Simulation"
      ],
      "metadata": {
        "id": "gEraxmuhyBQp"
      }
    },
    {
      "cell_type": "code",
      "source": [
        "import numpy as np\n",
        "import scipy.optimize\n",
        "import matplotlib.pyplot as plt\n",
        "\n",
        "def simulate_tennis_game(p_win_point):\n",
        "    points_won = 0\n",
        "    points_lost = 0\n",
        "\n",
        "    while True:\n",
        "        if np.random.rand() < p_win_point:\n",
        "            points_won += 1\n",
        "        else:\n",
        "            points_lost += 1\n",
        "\n",
        "        # Check for win conditions before Deuce\n",
        "        if points_won >= 4 and points_won - points_lost >= 2:\n",
        "            return 1\n",
        "\n",
        "        if points_lost >= 4 and points_lost - points_won >= 2:\n",
        "            return 0\n",
        "\n",
        "        # Handle Deuce scenario\n",
        "        if points_won >= 3 and points_lost >= 3:\n",
        "            while True:  # Continue until one player wins by 2 points\n",
        "                if np.random.rand() < p_win_point:\n",
        "                    points_won += 1\n",
        "                else:\n",
        "                    points_lost += 1\n",
        "\n",
        "                if points_won - points_lost == 2:  # Win by 2 points\n",
        "                    return 1\n",
        "                if points_lost - points_won == 2:  # Win by 2 points\n",
        "                    return 0\n",
        "\n",
        "\n",
        "def simulate_games(n_games, p_win_point):\n",
        "    p_g = []\n",
        "    for _ in range(n_games):\n",
        "        wins = simulate_tennis_game(p_win_point)\n",
        "        p_g.append(wins)\n",
        "    return sum(p_g)/len(p_g)\n",
        "\n",
        "p_win_point = 0.55\n",
        "n_games = 10000\n",
        "prob_game = simulate_games(n_games, p_win_point)\n",
        "\n",
        "print(prob_game)\n"
      ],
      "metadata": {
        "id": "BC2p4dCsx_3J",
        "colab": {
          "base_uri": "https://localhost:8080/"
        },
        "outputId": "6a2c46f1-2b1f-4c24-a1ff-52b2a490270b"
      },
      "execution_count": 7,
      "outputs": [
        {
          "output_type": "stream",
          "name": "stdout",
          "text": [
            "0.626\n"
          ]
        }
      ]
    },
    {
      "cell_type": "markdown",
      "source": [
        "### Theoretical Model"
      ],
      "metadata": {
        "id": "mWb9QhRHyGQy"
      }
    },
    {
      "cell_type": "code",
      "source": [
        "from math import comb\n",
        "\n",
        "epsilon = 1e-10\n",
        "\n",
        "def theoretical_probability(p):\n",
        "    p_love = p**4\n",
        "    p_15 = 4 * p**4 * (1-p)\n",
        "    p_30 = 10 * p**4 * (1-p)**2\n",
        "    p_deuce = (20 * p**5 * (1-p)**3) / (1 - (2*p*(1-p)))\n",
        "\n",
        "    return p_love + p_15 + p_30 + p_deuce"
      ],
      "metadata": {
        "id": "mq5NUGeGyJtw"
      },
      "execution_count": 8,
      "outputs": []
    },
    {
      "cell_type": "markdown",
      "source": [
        "### Model Plotting"
      ],
      "metadata": {
        "id": "5f1eUN5uyS8s"
      }
    },
    {
      "cell_type": "code",
      "source": [
        "p_values = np.linspace(.5, 1, 20)\n",
        "\n",
        "simulated_probs = [simulate_games(10000, p) for p in p_values]\n",
        "\n",
        "# Calculate the probability of the best player winning for each p value\n",
        "probabilities = [theoretical_probability(p) for p in p_values]\n",
        "\n",
        "# Plotting\n",
        "plt.figure(figsize=(10, 6))\n",
        "plt.plot(p_values, simulated_probs, label='Simulated Probability of Best Player Winning')\n",
        "plt.plot(p_values, probabilities, label='Probability of Best Player Winning')\n",
        "plt.title('Probability of Best Player Winning a Four Point Game')\n",
        "plt.xlabel('Probability of Winning a point (p)')\n",
        "plt.ylabel('Probability of Winning the game')\n",
        "plt.grid(True)\n",
        "plt.legend()\n",
        "plt.show()\n",
        "\n"
      ],
      "metadata": {
        "colab": {
          "base_uri": "https://localhost:8080/",
          "height": 564
        },
        "id": "h_9ZxTD-yMDG",
        "outputId": "b2e865d2-01aa-41fb-c3a8-2082d40b5f79"
      },
      "execution_count": 9,
      "outputs": [
        {
          "output_type": "display_data",
          "data": {
            "text/plain": [
              "<Figure size 1000x600 with 1 Axes>"
            ],
            "image/png": "[encoded data removed]"
          },
          "metadata": {}
        }
      ]
    },
    {
      "cell_type": "markdown",
      "source": [
        "## Tennis 6 Game Sets Modelling"
      ],
      "metadata": {
        "id": "6AeXyztgyh_w"
      }
    },
    {
      "cell_type": "markdown",
      "source": [
        "### Data Processing"
      ],
      "metadata": {
        "id": "wHG9YaaIynbr"
      }
    },
    {
      "cell_type": "code",
      "source": [
        "import numpy as np\n",
        "import scipy\n",
        "\n",
        "import matplotlib.pyplot as plt\n",
        "plt.rcParams.update({'font.size': 15})\n",
        "def count_loser_games(score_str):\n",
        "    # Split the score string into individual set scores\n",
        "    score_str = str(score_str)\n",
        "    sets = score_str.split(' ')\n",
        "    return sets\n",
        "\n",
        "# Load data.  Each competition reports the number of sets the losing player wins.\n",
        "# Filter data on best-of-five set matches only, i.e. match winner wins 3 sets.\n",
        "\n",
        "data = new_data['match_score_tiebreaks']\n",
        "five_set_max = new_data[new_data['winner_sets_won'] == 3]\n",
        "filter = five_set_max['match_score_tiebreaks'].str.contains('\\(')\n",
        "five_set_max = five_set_max[~filter]\n",
        "\n",
        "\n",
        "list_games = []\n",
        "for index, row in five_set_max.iterrows():\n",
        "  items = count_loser_games(row[\"match_score_tiebreaks\"])\n",
        "  for item in items:\n",
        "    if item in ['60', '61', '62', '63', '64', '65', '75', '06', '16', '26', '36', '46', '56', '57']:\n",
        "      list_games.append(item)\n",
        "\n",
        "\n",
        "n = len(five_set_max)\n",
        "print(n)\n",
        "\n",
        "list_games_loser = [x.replace('6','') for x in list_games]\n",
        "list_games_loser = [x.replace('7','') for x in list_games_loser]\n",
        "\n",
        "n0, n1, n2, n3, n4, n5 = np.bincount(list_games_loser)\n",
        "print('Winner\\tLoser\\tFrequency')\n",
        "print('-------------------------')\n",
        "print(f'6\\t0\\t{n0}')\n",
        "print(f'6\\t1\\t{n1}')\n",
        "print(f'6\\t2\\t{n2}')\n",
        "print(f'6\\t3\\t{n3}')\n",
        "print(f'6\\t4\\t{n4}')\n",
        "print(f'7\\t5\\t{n5}')\n",
        "print('-------------------------')\n",
        "print(f'Total:\\t\\t{n0+n1+n2+n3+n4+n5}')"
      ],
      "metadata": {
        "id": "W4DvrcefyYAA",
        "colab": {
          "base_uri": "https://localhost:8080/"
        },
        "outputId": "eb067a29-8fc1-459a-a9e9-3a576c19ebfd"
      },
      "execution_count": 10,
      "outputs": [
        {
          "output_type": "stream",
          "name": "stdout",
          "text": [
            "37080\n",
            "Winner\tLoser\tFrequency\n",
            "-------------------------\n",
            "6\t0\t7427\n",
            "6\t1\t17406\n",
            "6\t2\t24845\n",
            "6\t3\t29919\n",
            "6\t4\t30333\n",
            "7\t5\t11886\n",
            "-------------------------\n",
            "Total:\t\t121816\n"
          ]
        }
      ]
    },
    {
      "cell_type": "markdown",
      "source": [
        "### NLL Mosteller Model"
      ],
      "metadata": {
        "id": "PHreMmDVyrD6"
      }
    },
    {
      "cell_type": "code",
      "source": [
        "import numpy as np\n",
        "\n",
        "def NLL_Mosteller(p_g, outcomes):\n",
        "    # Convert p_g to q_g\n",
        "    q_g = 1 - p_g\n",
        "\n",
        "    # Count the number of outcomes for each score\n",
        "    counts = np.zeros(6)  # For scores: 6-0, 6-1, 6-2, 6-3, 6-4, and 7-5\n",
        "    for outcome in outcomes:\n",
        "        if outcome[0] == 6 and outcome[1] == 0:\n",
        "            counts[0] += 1\n",
        "        elif outcome[0] == 6 and outcome[1] == 1:\n",
        "            counts[1] += 1\n",
        "        elif outcome[0] == 6 and outcome[1] == 2:\n",
        "            counts[2] += 1\n",
        "        elif outcome[0] == 6 and outcome[1] == 3:\n",
        "            counts[3] += 1\n",
        "        elif outcome[0] == 6 and outcome[1] == 4:\n",
        "            counts[4] += 1\n",
        "        elif outcome[0] == 7 and outcome[1] == 5:\n",
        "            counts[5] += 1\n",
        "\n",
        "    # Calculate the probability of each outcome based on the new definitions\n",
        "    P = np.zeros(6)\n",
        "    P[0] = p_g**6 + q_g**6\n",
        "    P[1] = 6 * (p_g**6 * q_g + p_g * q_g**6)\n",
        "    P[2] = 21 * (p_g**6 * q_g**2 + p_g**2 * q_g**6)\n",
        "    P[3] = 56 * (p_g**6 * q_g**3 + p_g**3 * q_g**6)\n",
        "    P[4] = 126 * (p_g**6 * q_g**4 + p_g**4 * q_g**6)\n",
        "    P[5] = 252 * (p_g**7 * q_g**5 + p_g**5 * q_g**7)\n",
        "\n",
        "    # Calculate the log likelihood\n",
        "    log_likelihood = np.sum(counts * np.log(P))\n",
        "\n",
        "    return -log_likelihood\n",
        "\n",
        "# initial (random) guess for p\n",
        "p_init = .6\n",
        "\n",
        "#check initial p makes sense\n",
        "assert p_init > .5 and p_init < 1.\n",
        "\n",
        "#p_analytic = 0.5\n",
        "#print(f'Analytic min. p = {p_analytic:.5f}')\n",
        "\n",
        "# minimize with scipy routines\n",
        "# bounds is used to constrain optimizer to stay in regions where taking log(p) makes sense\n",
        "epsilon = 1e-5\n",
        "opt_results = scipy.optimize.minimize(lambda p: NLL_Mosteller(p, np.array(list_games_loser)),\n",
        "                                      p_init,\n",
        "                                      bounds=[(.5 + epsilon, 1. - epsilon)])\n",
        "\n",
        "p_numeric = opt_results.x.squeeze()\n",
        "\n",
        "print(f'Numeric min. p = {p_numeric:.4f}')"
      ],
      "metadata": {
        "id": "T5DMJcDXyu3a",
        "colab": {
          "base_uri": "https://localhost:8080/"
        },
        "outputId": "a4d42758-3bcd-45aa-9d06-dd889e673c0e"
      },
      "execution_count": 11,
      "outputs": [
        {
          "output_type": "stream",
          "name": "stdout",
          "text": [
            "Numeric min. p = 0.6000\n"
          ]
        },
        {
          "output_type": "stream",
          "name": "stderr",
          "text": [
            "<ipython-input-11-0be8ed7e10c3>:25: DeprecationWarning: Conversion of an array with ndim > 0 to a scalar is deprecated, and will error in future. Ensure you extract a single element from your array before performing this operation. (Deprecated NumPy 1.25.)\n",
            "  P[0] = p_g**6 + q_g**6\n",
            "<ipython-input-11-0be8ed7e10c3>:26: DeprecationWarning: Conversion of an array with ndim > 0 to a scalar is deprecated, and will error in future. Ensure you extract a single element from your array before performing this operation. (Deprecated NumPy 1.25.)\n",
            "  P[1] = 6 * (p_g**6 * q_g + p_g * q_g**6)\n",
            "<ipython-input-11-0be8ed7e10c3>:27: DeprecationWarning: Conversion of an array with ndim > 0 to a scalar is deprecated, and will error in future. Ensure you extract a single element from your array before performing this operation. (Deprecated NumPy 1.25.)\n",
            "  P[2] = 21 * (p_g**6 * q_g**2 + p_g**2 * q_g**6)\n",
            "<ipython-input-11-0be8ed7e10c3>:28: DeprecationWarning: Conversion of an array with ndim > 0 to a scalar is deprecated, and will error in future. Ensure you extract a single element from your array before performing this operation. (Deprecated NumPy 1.25.)\n",
            "  P[3] = 56 * (p_g**6 * q_g**3 + p_g**3 * q_g**6)\n",
            "<ipython-input-11-0be8ed7e10c3>:29: DeprecationWarning: Conversion of an array with ndim > 0 to a scalar is deprecated, and will error in future. Ensure you extract a single element from your array before performing this operation. (Deprecated NumPy 1.25.)\n",
            "  P[4] = 126 * (p_g**6 * q_g**4 + p_g**4 * q_g**6)\n",
            "<ipython-input-11-0be8ed7e10c3>:30: DeprecationWarning: Conversion of an array with ndim > 0 to a scalar is deprecated, and will error in future. Ensure you extract a single element from your array before performing this operation. (Deprecated NumPy 1.25.)\n",
            "  P[5] = 252 * (p_g**7 * q_g**5 + p_g**5 * q_g**7)\n"
          ]
        }
      ]
    },
    {
      "cell_type": "markdown",
      "source": [
        "### 6 Game Set Probability Calculations"
      ],
      "metadata": {
        "id": "vLed3SZoyxKu"
      }
    },
    {
      "cell_type": "code",
      "source": [
        "from math import comb\n",
        "\n",
        "def six_game_set_prob(p_g):\n",
        "    q_g = 1 - p_g\n",
        "\n",
        "    # Calculate probabilities based on the table\n",
        "    P6_0 = p_g**6 + q_g**6\n",
        "    P6_1 = 6 * (p_g**6 * q_g + p_g * q_g**6)\n",
        "    P6_2 = 21 * (p_g**6 * q_g**2 + p_g**2 * q_g**6)\n",
        "    P6_3 = 56 * (p_g**6 * q_g**3 + p_g**3 * q_g**6)\n",
        "    P6_4 = 126 * (p_g**6 * q_g**4 + p_g**4 * q_g**6)\n",
        "    P7_5 = 252 * (p_g**7 * q_g**5 + p_g**5 * q_g**7)\n",
        "\n",
        "    Pleft = p_g**6 + 6 * (p_g**6 * q_g) + 21 * (p_g**6 * q_g**2 ) + 56 * (p_g**6 * q_g**3 ) + 126 * (p_g**6 * q_g**4 ) + 252 * (p_g**7 * q_g**5 )\n",
        "\n",
        "    # Total probability of Best player winning\n",
        "    PB = Pleft / (P6_0 + P6_1 + P6_2 + P6_3 + P6_4 + P7_5)\n",
        "    # Total probability of Worst player winning is simply 1 - PB, since there are only two possible outcomes\n",
        "\n",
        "    print(f'Best player probability of winning the set: {PB:.4f}')\n",
        "    print(f'Worst player probability of winning the set: {1 - PB:.4f}')\n",
        "    return PB\n",
        "\n",
        "# Example usage\n",
        "six_game_set_prob(0.60)\n"
      ],
      "metadata": {
        "id": "chZXQ3sby43O",
        "colab": {
          "base_uri": "https://localhost:8080/"
        },
        "outputId": "c0244033-c08d-4467-f0eb-afb8c0a9ccfc"
      },
      "execution_count": 12,
      "outputs": [
        {
          "output_type": "stream",
          "name": "stdout",
          "text": [
            "Best player probability of winning the set: 0.7805\n",
            "Worst player probability of winning the set: 0.2195\n"
          ]
        },
        {
          "output_type": "execute_result",
          "data": {
            "text/plain": [
              "0.7805163136687593"
            ]
          },
          "metadata": {},
          "execution_count": 12
        }
      ]
    },
    {
      "cell_type": "markdown",
      "source": [
        "### Model Plotting"
      ],
      "metadata": {
        "id": "0_pcFgpoy8un"
      }
    },
    {
      "cell_type": "code",
      "source": [
        "import numpy as np\n",
        "import matplotlib.pyplot as plt\n",
        "\n",
        "# Define the function that calculates the probability of the best player winning\n",
        "def six_game_set_prob(p_g):\n",
        "    q_g = 1 - p_g\n",
        "\n",
        "    # Calculate probabilities based on the table\n",
        "    P6_0 = p_g**6 + q_g**6\n",
        "    P6_1 = 6 * (p_g**6 * q_g + p_g * q_g**6)\n",
        "    P6_2 = 21 * (p_g**6 * q_g**2 + p_g**2 * q_g**6)\n",
        "    P6_3 = 56 * (p_g**6 * q_g**3 + p_g**3 * q_g**6)\n",
        "    P6_4 = 126 * (p_g**6 * q_g**4 + p_g**4 * q_g**6)\n",
        "    P7_5 = 252 * (p_g**7 * q_g**5 + p_g**5 * q_g**7)\n",
        "\n",
        "    Pleft = p_g**6 + 6 * (p_g**6 * q_g) + 21 * (p_g**6 * q_g**2 ) + 56 * (p_g**6 * q_g**3 ) + 126 * (p_g**6 * q_g**4 ) + 252 * (p_g**7 * q_g**5 )\n",
        "\n",
        "    # Total probability of Best player winning\n",
        "    PB = Pleft / (P6_0 + P6_1 + P6_2 + P6_3 + P6_4 + P7_5)\n",
        "\n",
        "    return PB\n",
        "\n",
        "# Create an array of p values from 0 to 1\n",
        "p_values = np.linspace(.5, 1, 100)\n",
        "\n",
        "# Calculate the probability of the best player winning for each p value\n",
        "probabilities = [six_game_set_prob(p) for p in p_values]\n",
        "\n",
        "# Plotting\n",
        "plt.figure(figsize=(10, 6))\n",
        "plt.plot(p_values, probabilities, label='Probability of Best Player Winning')\n",
        "plt.title('Probability of Best Player Winning a Six-Game Set')\n",
        "plt.xlabel('Probability of Winning a Game (p)')\n",
        "plt.ylabel('Probability of Winning the Set')\n",
        "plt.grid(True)\n",
        "plt.legend()\n",
        "plt.show()\n"
      ],
      "metadata": {
        "id": "t01ADBBdy69W",
        "colab": {
          "base_uri": "https://localhost:8080/",
          "height": 581
        },
        "outputId": "da40ddb7-05a4-4824-f6d5-34ae4b6e404d"
      },
      "execution_count": 13,
      "outputs": [
        {
          "output_type": "display_data",
          "data": {
            "text/plain": [
              "<Figure size 1000x600 with 1 Axes>"
            ],
            "image/png": "[encoded data removed]"
          },
          "metadata": {}
        }
      ]
    },
    {
      "cell_type": "markdown",
      "source": [
        "## Tennis 5 Set Matches Modelling"
      ],
      "metadata": {
        "id": "LNxTpeIOzFRk"
      }
    },
    {
      "cell_type": "markdown",
      "source": [
        "\n",
        "If we now define $p_s$ as the probability of the better player (B) to win a set and $q_s$ as the probability of worst player (W) to win a set, then the possible outcomes for a best-of-5 set match are:\n",
        "\n",
        "<center>\n",
        "\n",
        "| Winner | Loser | Probability of Outcome | Combinations | Example B Wins| Example W Wins\n",
        "|--------|-------|------------------------|--------------|---------|------|\n",
        "| 3 | 0 | $ p_s^3 + q_s^3 $ | 1 | BBB | WWW |\n",
        "| 3 | 1 | $ 3(p_s^3q_s + p_sq_s^3) $ | $\\binom{3}{1} = 3$ | BBWB,BWBB,WBBB | WWBW,WBWW,BWWW |\n",
        "| 3 | 2 | $6(p_s^3q_s^2 + p_s^2q_s^3)$ | $\\binom{4}{2} = 6$ | BBWWB, BWWBB, ... | WWBBW, WBBWW, ...|\n",
        "\n",
        "</center>\n",
        "\n",
        "\\\n",
        "The probability of the better player winning a match is the sum of the left column divided by the total probabilities:\\\n",
        "$$\n",
        "P(B) = \\frac{p_s^3 + 3p_s^3q_s + 6p_s^3q_s^2}{p_s^3 + q_s^3 +3(p_s^3q_s + p_sq_s^3) + 6(p_s^3q_s^2 + p_s^2q_s^3)}\n",
        "$$\n",
        "\\\n",
        "similarly the probability of the worse player winning the match is:\\\n",
        "\\\n",
        "$$\n",
        "P(W) = \\frac{q_s^3 + 3p_sq_s^3 + 6p_s^2q_s^3}{p_s^3 + q_s^3 +3(p_s^3q_s + p_sq_s^3) + 6(p_s^3q_s^2 + p_s^2q_s^3)}\n",
        "$$"
      ],
      "metadata": {
        "id": "P--AtH-xzWPR"
      }
    },
    {
      "cell_type": "markdown",
      "source": [
        "### Data Processing\n"
      ],
      "metadata": {
        "id": "ooNvlkDWzbJs"
      }
    },
    {
      "cell_type": "code",
      "source": [
        "import numpy as np\n",
        "import scipy\n",
        "\n",
        "import matplotlib.pyplot as plt\n",
        "plt.rcParams.update({'font.size': 15})\n",
        "\n",
        "\n",
        "data = new_data['loser_sets_won']\n",
        "five_set_max = new_data[new_data['winner_sets_won'] == 3]\n",
        "\n",
        "n = len(five_set_max)\n",
        "print(n)\n",
        "\n",
        "n0, n1, n2 = np.bincount(five_set_max['loser_sets_won'])\n",
        "print('Winner\\tLoser\\tFrequency')\n",
        "print('-------------------------')\n",
        "print(f'3\\t0\\t{n0}')\n",
        "print(f'3\\t1\\t{n1}')\n",
        "print(f'3\\t2\\t{n2}')\n",
        "print('-------------------------')\n",
        "print(f'Total:\\t\\t{n0+n1+n2}')\n",
        "\n",
        "print(five_set_max['winner_sets_won'].unique())\n",
        "print(five_set_max['loser_sets_won'].unique())"
      ],
      "metadata": {
        "id": "21OQUbP1zH9I",
        "colab": {
          "base_uri": "https://localhost:8080/"
        },
        "outputId": "ea668f4e-341f-4906-9cee-416199f3d18e"
      },
      "execution_count": 14,
      "outputs": [
        {
          "output_type": "stream",
          "name": "stdout",
          "text": [
            "43208\n",
            "Winner\tLoser\tFrequency\n",
            "-------------------------\n",
            "3\t0\t23221\n",
            "3\t1\t12665\n",
            "3\t2\t7322\n",
            "-------------------------\n",
            "Total:\t\t43208\n",
            "[3]\n",
            "[0 1 2]\n"
          ]
        }
      ]
    },
    {
      "cell_type": "markdown",
      "source": [
        "### NLL Mosteller Model"
      ],
      "metadata": {
        "id": "-lR_e_oEzj-C"
      }
    },
    {
      "cell_type": "code",
      "source": [
        "# Negative log-likelihood from outcome probabilities\n",
        "# for 5 set matches ala Mosteller\n",
        "def NLL_Mosteller(p, outcomes):\n",
        "\n",
        "    n0, n1, n2 = np.bincount(outcomes)\n",
        "\n",
        "    q = 1-p\n",
        "\n",
        "    P0 = p**3 + q**3\n",
        "    P1 = 3*((p**3)*q + p*(q**3))\n",
        "    P2 = 6*((p**3)*(q**2) + (p**2)*(q**3))\n",
        "\n",
        "    log_likelihood = n0*np.log(P0) + n1*np.log(P1) + n2*np.log(P2)\n",
        "\n",
        "    return -log_likelihood\n",
        "\n",
        "# initial (random) guess for p\n",
        "p_init = .6\n",
        "\n",
        "#check initial p makes sense\n",
        "assert p_init > .5 and p_init < 1.\n",
        "\n",
        "n0, n1, n2 = np.bincount(five_set_max['loser_sets_won'])\n",
        "\n",
        "#p_analytic = 0.5\n",
        "#print(f'Analytic min. p = {p_analytic:.5f}')\n",
        "\n",
        "# minimize with scipy routines\n",
        "# bounds is used to constrain optimizer to stay in regions where taking log(p) makes sense\n",
        "epsilon = 1e-5\n",
        "opt_results = scipy.optimize.minimize(lambda p: NLL_Mosteller(p, np.array(five_set_max['loser_sets_won'])),\n",
        "                                      p_init,\n",
        "                                      bounds=[(.5 + epsilon, 1. - epsilon)])\n",
        "\n",
        "p_numeric = opt_results.x.squeeze()\n",
        "\n",
        "print(f'Numeric min. p = {p_numeric:.4f}')"
      ],
      "metadata": {
        "id": "LUmAv6rHznLs",
        "colab": {
          "base_uri": "https://localhost:8080/"
        },
        "outputId": "b5b38d15-d942-4fa8-96ff-a4b18209471e"
      },
      "execution_count": 15,
      "outputs": [
        {
          "output_type": "stream",
          "name": "stdout",
          "text": [
            "Numeric min. p = 0.8005\n"
          ]
        }
      ]
    },
    {
      "cell_type": "markdown",
      "source": [
        "### 5 Set Probability Calculations"
      ],
      "metadata": {
        "id": "1RYHICc6zqu4"
      }
    },
    {
      "cell_type": "code",
      "source": [
        "def five_set_prob(p):\n",
        "\n",
        "    q = 1 - p\n",
        "\n",
        "    P0 = p**3 + q**3\n",
        "    P1 = 3*((p**3)*q + p*(q**3))\n",
        "    P2 = 6*((p**3)*(q**2) + (p**2)*(q**3))\n",
        "\n",
        "    Pleft = p**3 + 3*(p**3)*q + 6*(p**3)*(q**2)\n",
        "    Pright = q**3 + 3*p*(q**3) + 6*(p**2)*(q**3)\n",
        "\n",
        "    PB = Pleft/(P0+P1+P2)\n",
        "    PW = Pright/(P0+P1+P2)\n",
        "\n",
        "    print(f'Best player probability of winning 5-set match:{PB:.4f}')\n",
        "    print(f'Worst player probability of winning 5-set match:{PW:.4f}')\n",
        "\n",
        "five_set_prob(0.8268)"
      ],
      "metadata": {
        "id": "Aapwjqydzuh8",
        "colab": {
          "base_uri": "https://localhost:8080/"
        },
        "outputId": "2cb1aa3d-42eb-49a2-e782-82fb75c01536"
      },
      "execution_count": 16,
      "outputs": [
        {
          "output_type": "stream",
          "name": "stdout",
          "text": [
            "Best player probability of winning 5-set match:0.9606\n",
            "Worst player probability of winning 5-set match:0.0394\n"
          ]
        }
      ]
    },
    {
      "cell_type": "markdown",
      "source": [
        "## Correlation Testing/Simulation"
      ],
      "metadata": {
        "id": "lwq0FRAE0Hp1"
      }
    },
    {
      "cell_type": "markdown",
      "source": [
        "### Single Simulation of 10,000 matches\n",
        "#### Fixed point probability\n",
        "Here we run one simulation with 10,000 matches with the better player having a fixed probability of winning a point, p = 0.55.  Each match result gives us the number of sets won by the losing player."
      ],
      "metadata": {
        "id": "lfQ_OMU00QmZ"
      }
    },
    {
      "cell_type": "code",
      "source": [
        "import random\n",
        "\n",
        "def simulate_point(probability_player_a):\n",
        "    return random.random() < probability_player_a\n",
        "\n",
        "def simulate_game(probability_player_a):\n",
        "    score_a = score_b = 0\n",
        "    while abs(score_a - score_b) < 2 or (score_a < 4 and score_b < 4):\n",
        "        if simulate_point(probability_player_a):\n",
        "            score_a += 1\n",
        "        else:\n",
        "            score_b += 1\n",
        "    return score_a, score_b\n",
        "\n",
        "def simulate_set(probability_player_a):\n",
        "    games_a = games_b = 0\n",
        "    while games_a < 6 and games_b < 6:\n",
        "        score_a, score_b = simulate_game(probability_player_a)\n",
        "        if score_a > score_b:\n",
        "            games_a += 1\n",
        "        else:\n",
        "            games_b += 1\n",
        "    return games_a, games_b\n",
        "\n",
        "def simulate_match(probability_player_a):\n",
        "    sets_a = sets_b = 0\n",
        "    while sets_a < 3 and sets_b < 3:\n",
        "        games_a, games_b = simulate_set(probability_player_a)\n",
        "        if games_a > games_b:\n",
        "            sets_a += 1\n",
        "        else:\n",
        "            sets_b += 1\n",
        "    return min(sets_a, sets_b)\n",
        "\n",
        "# Example usage:\n",
        "probability_player_a = 0.55  # Probability of player A winning a point\n",
        "results = [simulate_match(probability_player_a) for _ in range(10000)]\n",
        "sets_won_by_loser = np.array(results)\n",
        "print(set(results))\n"
      ],
      "metadata": {
        "id": "1QKjNtVh0JzN",
        "colab": {
          "base_uri": "https://localhost:8080/"
        },
        "outputId": "cb1f6f69-7c72-4d47-bafb-814c1a472272"
      },
      "execution_count": 17,
      "outputs": [
        {
          "output_type": "stream",
          "name": "stdout",
          "text": [
            "{0, 1, 2}\n"
          ]
        }
      ]
    },
    {
      "cell_type": "markdown",
      "source": [
        "From the resulting monte carlo simulation, we use the number of sets won by the losing player, and feed that into Mosteller once again to extract the probability of winning a match."
      ],
      "metadata": {
        "id": "UZRRpNxQ0WlY"
      }
    },
    {
      "cell_type": "code",
      "source": [
        "# initial (random) guess for p\n",
        "p_init = .6\n",
        "\n",
        "#check initial p makes sense\n",
        "assert p_init > .5 and p_init < 1.\n",
        "\n",
        "n0, n1, n2 = np.bincount(sets_won_by_loser)\n",
        "\n",
        "# minimize with scipy routines\n",
        "# bounds is used to constrain optimizer to stay in regions where taking log(p) makes sense\n",
        "epsilon = 1e-5\n",
        "opt_results = scipy.optimize.minimize(lambda p: NLL_Mosteller(p, np.array(sets_won_by_loser)),\n",
        "                                      p_init,\n",
        "                                      bounds=[(.5 + epsilon, 1. - epsilon)])\n",
        "\n",
        "p_numeric = opt_results.x.squeeze()\n",
        "\n",
        "print(f'Numeric probability of winning a set p = {p_numeric:.4f}')"
      ],
      "metadata": {
        "id": "Ke6tPPdj0XJD",
        "colab": {
          "base_uri": "https://localhost:8080/"
        },
        "outputId": "34c5b78a-39b6-4f9b-9408-a0c6764759ae"
      },
      "execution_count": 18,
      "outputs": [
        {
          "output_type": "stream",
          "name": "stdout",
          "text": [
            "Numeric probability of winning a set p = 0.8024\n"
          ]
        }
      ]
    },
    {
      "cell_type": "markdown",
      "source": [
        "Based on the simulated match results and the resulting probability to win a set, we compute the probability to win a 5-set match, for each of the pointp's (probability of winning a point)."
      ],
      "metadata": {
        "id": "j3M_gUyv0ZzA"
      }
    },
    {
      "cell_type": "code",
      "source": [
        "five_set_prob(.8046)"
      ],
      "metadata": {
        "id": "39C8OOz90aV9",
        "colab": {
          "base_uri": "https://localhost:8080/"
        },
        "outputId": "7d65a07a-9f2a-41f1-9cd2-88c8c20bb456"
      },
      "execution_count": 19,
      "outputs": [
        {
          "output_type": "stream",
          "name": "stdout",
          "text": [
            "Best player probability of winning 5-set match:0.9456\n",
            "Worst player probability of winning 5-set match:0.0544\n"
          ]
        }
      ]
    },
    {
      "cell_type": "markdown",
      "source": [
        "### Six Simulations, varying point probability\n",
        "\n",
        "Here we run 6 simulations by varying the probility of winning a point (pointp) from 0.5 to 0.65, each with 10,000 matches. For each set of results, we fit that into the Mostellar model to come up with a probability of winning a set."
      ],
      "metadata": {
        "id": "qwXWQuPk0d4q"
      }
    },
    {
      "cell_type": "code",
      "source": [
        "# Importing necessary libraries\n",
        "import numpy as np\n",
        "\n",
        "# Define the range of probabilities\n",
        "probabilities = np.linspace(0.5, 0.65, num=6)  # From 0.5 to 1.0 with 6 values\n",
        "\n",
        "# Initialize an empty list to store results for each probability\n",
        "all_results = []\n",
        "all_probabilities = []\n",
        "\n",
        "# Iterate over each probability value\n",
        "for probability_player_a in probabilities:\n",
        "    # Simulate matches for the current probability\n",
        "    results = [simulate_match(probability_player_a) for _ in range(10000)]\n",
        "    # Store the results in the list\n",
        "    all_results.append(results)\n",
        "\n",
        "    sets_won_by_loser = np.array(results)\n",
        "    # initial (random) guess for p\n",
        "    p_init = .6\n",
        "\n",
        "    #check initial p makes sense\n",
        "    assert p_init > .5 and p_init < 1.\n",
        "\n",
        "    n0, n1, n2 = np.bincount(sets_won_by_loser)\n",
        "\n",
        "    # minimize with scipy routines\n",
        "    # bounds is used to constrain optimizer to stay in regions where taking log(p) makes sense\n",
        "    epsilon = 1e-5\n",
        "    opt_results = scipy.optimize.minimize(lambda p: NLL_Mosteller(p, np.array(sets_won_by_loser)),\n",
        "                                          p_init,\n",
        "                                          bounds=[(.5 + epsilon, 1. - epsilon)])\n",
        "\n",
        "    p_numeric = opt_results.x.squeeze()\n",
        "\n",
        "    print(f'Numeric probability of winning a set p = {p_numeric:.4f} with prob of winning point = {probability_player_a:.4f}')\n",
        "    all_probabilities.append([probability_player_a,p_numeric])\n",
        "\n",
        "\n",
        "# Now all_results contains a list of lists, where each inner list contains results for a specific probability\n"
      ],
      "metadata": {
        "id": "P9XlIHfe0kLr",
        "colab": {
          "base_uri": "https://localhost:8080/"
        },
        "outputId": "d9ec5b29-7ee4-451c-d909-20c18e594b0c"
      },
      "execution_count": 20,
      "outputs": [
        {
          "output_type": "stream",
          "name": "stdout",
          "text": [
            "Numeric probability of winning a set p = 0.5000 with prob of winning point = 0.5000\n",
            "Numeric probability of winning a set p = 0.6930 with prob of winning point = 0.5300\n",
            "Numeric probability of winning a set p = 0.8455 with prob of winning point = 0.5600\n",
            "Numeric probability of winning a set p = 0.9366 with prob of winning point = 0.5900\n",
            "Numeric probability of winning a set p = 0.9800 with prob of winning point = 0.6200\n",
            "Numeric probability of winning a set p = 0.9944 with prob of winning point = 0.6500\n"
          ]
        }
      ]
    },
    {
      "cell_type": "markdown",
      "source": [
        "Here we group all the probabilities (point, set, match) so we can plot them.\n"
      ],
      "metadata": {
        "id": "v2CxDlRT0oSV"
      }
    },
    {
      "cell_type": "code",
      "source": [
        "all_probs = []\n",
        "for probs in all_probabilities:\n",
        "  pointp = probs[0]\n",
        "  setp = probs[1]\n",
        "  matchp = five_set_prob(setp)\n",
        "  all_probs.append([pointp,setp,matchp])"
      ],
      "metadata": {
        "id": "NJ8DWo_80okb",
        "colab": {
          "base_uri": "https://localhost:8080/"
        },
        "outputId": "94cccc35-540a-4c07-9c43-8a3856b584ee"
      },
      "execution_count": 21,
      "outputs": [
        {
          "output_type": "stream",
          "name": "stdout",
          "text": [
            "Best player probability of winning 5-set match:0.5000\n",
            "Worst player probability of winning 5-set match:0.5000\n",
            "Best player probability of winning 5-set match:0.8276\n",
            "Worst player probability of winning 5-set match:0.1724\n",
            "Best player probability of winning 5-set match:0.9711\n",
            "Worst player probability of winning 5-set match:0.0289\n",
            "Best player probability of winning 5-set match:0.9977\n",
            "Worst player probability of winning 5-set match:0.0023\n",
            "Best player probability of winning 5-set match:0.9999\n",
            "Worst player probability of winning 5-set match:0.0001\n",
            "Best player probability of winning 5-set match:1.0000\n",
            "Worst player probability of winning 5-set match:0.0000\n"
          ]
        }
      ]
    },
    {
      "cell_type": "markdown",
      "source": [
        "#### Simulation Plotting"
      ],
      "metadata": {
        "id": "e_KS7BkS0rLx"
      }
    },
    {
      "cell_type": "code",
      "source": [
        "import matplotlib.pyplot as plt\n",
        "\n",
        "# Define the data as a list of lists\n",
        "data = all_probs\n",
        "\n",
        "# Extract x and y data\n",
        "x_data = [point[0] for point in data]\n",
        "y_set_data = [point[1] for point in data]\n",
        "y_match_data = [point[2] for point in data]\n",
        "\n",
        "# Create the plot\n",
        "fig, ax1 = plt.subplots()\n",
        "\n",
        "color = 'tab:red'\n",
        "ax1.set_xlabel('Probability of Winning a Point')\n",
        "ax1.set_ylabel('Probability of Winning a Set', color=color)\n",
        "ax1.plot(x_data, y_set_data, color=color)\n",
        "ax1.tick_params(axis='y', labelcolor=color)\n",
        "\n",
        "ax2 = ax1.twinx()  # instantiate a second axes that shares the same x-axis\n",
        "\n",
        "color = 'tab:blue'\n",
        "ax2.set_ylabel('Probability of Winning a Match', color=color)\n",
        "ax2.plot(x_data, y_match_data, color=color)\n",
        "ax2.tick_params(axis='y', labelcolor=color)\n",
        "\n",
        "fig.tight_layout()  # otherwise the right y-label is slightly clipped\n",
        "plt.show()\n"
      ],
      "metadata": {
        "colab": {
          "base_uri": "https://localhost:8080/",
          "height": 472
        },
        "id": "dlATqmNr5vZc",
        "outputId": "bdd7c462-af36-4286-d988-764b8259e5e6"
      },
      "execution_count": 22,
      "outputs": [
        {
          "output_type": "display_data",
          "data": {
            "text/plain": [
              "<Figure size 640x480 with 2 Axes>"
            ],
            "image/png": "[encoded data removed]"
          },
          "metadata": {}
        }
      ]
    },
    {
      "cell_type": "markdown",
      "source": [
        "We can see with a point probability of .55, the probability of winning a set is approx. .8 and of winning a match is over .9.  This agrees with our use of Mostellar with the historical data, which gave us a probability of winning a match as 0.9606, which roughly corresponds to pointp = .56 in our simulations."
      ],
      "metadata": {
        "id": "Hp1JY4Si0xof"
      }
    },
    {
      "cell_type": "markdown",
      "source": [
        "# Misc. Code for Appendixes"
      ],
      "metadata": {
        "id": "s7obT53Krea-"
      }
    },
    {
      "cell_type": "markdown",
      "source": [
        "# Tournament Predictions using ATP Rankings"
      ],
      "metadata": {
        "id": "wpj5QMDxE9QS"
      }
    },
    {
      "cell_type": "code",
      "source": [
        "import pandas as pd\n",
        "import numpy as np\n",
        "from sklearn.model_selection import train_test_split\n",
        "from sklearn.preprocessing import StandardScaler\n",
        "from sklearn.linear_model import LogisticRegression\n",
        "from sklearn.metrics import accuracy_score, classification_report\n",
        "from tabulate import tabulate\n",
        "\n",
        "\n",
        "# Set random seed for reproducibility\n",
        "np.random.seed(42)"
      ],
      "metadata": {
        "id": "sVItdCRKffxf"
      },
      "execution_count": 23,
      "outputs": []
    },
    {
      "cell_type": "code",
      "source": [
        "# Initial rankings data from Mar 4, 2024\n",
        "# Source: https://www.atptour.com/en/rankings/singles?RankRange=0-100&Region=all&DateWeek=Current%20Week\n",
        "rankings = {\n",
        "    \"rank\": [\n",
        "        1, 2, 3, 4, 5,\n",
        "        6, 7, 8, 9, 10,\n",
        "        11, 12, 13, 14, 15,\n",
        "        16, 17, 18, 19, 20,\n",
        "        21, 22, 23, 24, 25,\n",
        "        26, 27, 28, 29, 30,\n",
        "        31, 32, 33, 34, 35,\n",
        "        36, 37, 38, 39, 40,\n",
        "        41, 42, 43, 44, 45,\n",
        "        46, 47, 48, 49, 50,\n",
        "        51, 52, 53, 54, 55,\n",
        "        56, 57, 58, 59, 60,\n",
        "        61, 62, 63, 64, 65,\n",
        "        66, 67, 68, 69, 70,\n",
        "        71, 72, 73, 74, 75,\n",
        "        76, 77, 78, 79, 80,\n",
        "        81, 82, 83, 84, 85,\n",
        "        86, 87, 88, 89, 90,\n",
        "        91, 92, 93, 94, 95,\n",
        "        96, 97, 98, 99, 100,\n",
        "        101, 102, 103, 104, 105,\n",
        "        106, 107, 108, 109, 110,\n",
        "        111, 112, 113, 114, 115,\n",
        "        116, 117, 118, 119, 120,\n",
        "        121, 122, 123, 124, 125,\n",
        "        126, 127, 128\n",
        "    ],\n",
        "    \"player\": [\n",
        "        \"Novak Djokovic\", \"Carlos Alcaraz\", \"Jannik Sinner\", \"Daniil Medvedev\", \"Andrey Rublev\",\n",
        "        \"Alexander Zverev\", \"Holger Rune\", \"Hubert Hurkacz\", \"Casper Ruud\", \"Alex de Minaur\",\n",
        "        \"Stefanos Tsitsipas\", \"Taylor Fritz\", \"Grigor Dimitrov\", \"Ugo Humbert\", \"Karen Khachanov\",\n",
        "        \"Ben Shelton\", \"Tommy Paul\", \"Frances Tiafoe\", \"Sebastian Baez\", \"Alexander Bublik\",\n",
        "        \"Adrian Mannarino\", \"Francisco Cerundolo\", \"Alejandro Davidovich Fokina\", \"Nicolas Jarry\", \"Jan-Lennard Struff\",\n",
        "        \"Lorenzo Musetti\", \"Tallon Griekspoor\", \"Cameron Norrie\", \"Sebastian Korda\", \"Tomas Martin Etcheverry\",\n",
        "        \"Felix Auger-Aliassime\", \"Jiri Lehecka\", \"Jordan Thompson\", \"Christopher Eubanks\", \"Borna Coric\",\n",
        "        \"Laslo Djere\", \"Jack Draper\", \"Sebastian Ofner\", \"Alejandro Tabilo\", \"Matteo Arnaldi\",\n",
        "        \"Alexei Popyrin\", \"Roman Safiullin\", \"Arthur Fils\", \"Aslan Karatsev\", \"Daniel Evans\",\n",
        "        \"Emil Ruusuvuori\", \"Miomir Kecmanovic\", \"Marcos Giron\", \"Dominik Koepfer\", \"Zhizhen Zhang\",\n",
        "        \"Alexander Shevchenko\", \"Facundo Diaz Acosta\", \"Daniel Altmaier\", \"Gael Monfils\", \"Lorenzo Sonego\",\n",
        "        \"Dusan Lajovic\", \"Yannick Hanfmann\", \"Fabian Marozsan\", \"Mariano Navone\", \"Nuno Borges\",\n",
        "        \"Andy Murray\", \"Flavio Cobolli\", \"Tomas Machac\", \"Roberto Cabelles Baena\", \"Thiago Seyboth Wild\",\n",
        "        \"Christopher O'Connell\", \"Pavel Kotov\", \"Mackenzie McDonald\", \"Aleksandar Vukic\", \"Stan Wawrinka\",\n",
        "        \"Max Purcell\", \"Yoshihito Nishioka\", \"Luciano Darderi\", \"Marton Fucsovics\", \"Jaume Munar\",\n",
        "        \"Taro Daniel\", \"Arthur Cazaux\", \"Rinky Hijikata\", \"Pedro Cachin\", \"Alex Michelsen\",\n",
        "        \"Jakub Mensik\", \"Botic van de Zandschulp\", \"Arthur Rinderknech\", \"Daniel Elahi Galan\", \"Hugo Gaston\",\n",
        "        \"Luca Van Assche\", \"Cristian Garin\", \"Alexandre Muller\", \"Pedro Martinez\", \"Federico Coria\",\n",
        "        \"Dominic Thiem\", \"Aleksandar Kovacevic\", \"Brandon Nakashima\", \"J.J. Wolf\", \"Maximilian Marterer\",\n",
        "        \"Jurij Rodionov\", \"Thiago Agustin Tirante\", \"Roberto Bautista Agut\", \"Thanasi Kokkinakis\", \"Constant Lestienne\",\n",
        "        \"Sumit Nagal\", \"Albert Ramos-Vinolas\", \"Tomas Barrios Vera\", \"Quentin Halys\", \"Corentin Moutet\",\n",
        "        \"Zsombor Piros\", \"James Duckworth\", \"Fabio Fognini\", \"Benoit Paire\", \"Juan Pablo Varillas\",\n",
        "        \"Dominic Stricker\", \"David Goffin\", \"Thiago Monteiro\", \"Francisco Comesana\", \"Borna Gojo\",\n",
        "        \"Vit Kopriva\", \"Diego Schwartzman\", \"Richard Gasquet\", \"Hamad Medjedovic\", \"Duje Ajdukovic\",\n",
        "        \"Gregoire Barrere\", \"Zizou Bergs\", \"Luca Nardi\", \"Yosuke Watanuki\", \"Michael Mmoh\",\n",
        "        \"Otto Virtanen\", \"Camilo Ugo Carabelli\", \"Liam Broady\"\n",
        "    ],\n",
        "    \"points\": [\n",
        "        9675, 8805, 8270, 7715, 5010,\n",
        "        4950, 3720, 3405, 3405, 3210,\n",
        "        3170, 3015, 2880, 2415, 2300,\n",
        "        2145, 2120, 2115, 1985, 1984,\n",
        "        1950, 1840, 1595, 1575, 1531,\n",
        "        1480, 1445, 1380, 1345, 1335,\n",
        "        1295, 1260, 1246, 1234, 1194,\n",
        "        1190, 1151, 1116, 1116, 1091,\n",
        "        1087, 1080, 1078, 1073, 1066,\n",
        "        1041, 1030, 1015, 1008, 1006,\n",
        "        1000, 963, 961, 937, 935,\n",
        "        927, 920, 914, 906, 887,\n",
        "        885, 880, 868, 831, 820,\n",
        "        819, 819, 815, 801, 797,\n",
        "        796, 788, 787, 782, 776,\n",
        "        773, 769, 754, 754, 754,\n",
        "        751, 750, 720, 709, 704,\n",
        "        696, 690, 689, 687, 687,\n",
        "        655, 654, 645, 640, 637,\n",
        "        631, 616, 614, 609, 606,\n",
        "        603, 588, 588, 580, 577,\n",
        "        572, 569, 568, 565, 562,\n",
        "        557, 553, 552, 552, 548,\n",
        "        548, 538, 538, 532, 528,\n",
        "        516, 513, 513, 512, 507,\n",
        "        505, 494, 492\n",
        "    ]\n",
        "}"
      ],
      "metadata": {
        "id": "2KOpkGL6ffiV"
      },
      "execution_count": 24,
      "outputs": []
    },
    {
      "cell_type": "code",
      "source": [
        "def get_tourpts(tourtype):\n",
        "    if tourtype == \"gslam\":\n",
        "        return [10, 45, 90, 180, 360, 720, 1200, 2000]\n",
        "    elif tourtype == \"masters\":\n",
        "        return [10, 25, 45, 90, 180, 360, 600, 1000]\n",
        "    elif tourtype == \"atp500\":\n",
        "        return [10, 20, 45, 90, 180, 300, 500, 1000]\n",
        "    elif tourtype == \"atp250\":\n",
        "        return [10, 15, 25, 45, 90, 150, 250, 500]\n",
        "    elif tourtype == \"atp16\": # for testing\n",
        "        return [10, 15, 30, 60, 100]\n",
        "    else:\n",
        "        raise ValueError(\"Invalid tournament type. Valid options: gslam, masters, atp500, atp250, atp16\")\n",
        "\n",
        "# Example usage\n",
        "tourtype = \"gslam\"\n",
        "points = get_tourpts(tourtype)\n",
        "print(f\"Points distribution for {tourtype}: {points}\")\n"
      ],
      "metadata": {
        "colab": {
          "base_uri": "https://localhost:8080/"
        },
        "id": "fC27AvhsPiIg",
        "outputId": "af94bc4f-9456-4df8-ebe0-261799620303"
      },
      "execution_count": 26,
      "outputs": [
        {
          "output_type": "stream",
          "name": "stdout",
          "text": [
            "Points distribution for gslam: [10, 45, 90, 180, 360, 720, 1200, 2000]\n"
          ]
        }
      ]
    },
    {
      "cell_type": "code",
      "source": [
        "# With dict of players and point deltas, returns new rankings\n",
        "def update_rankings(rankings, pointdeltas):\n",
        "    # Update points for players in pointdeltas\n",
        "    for player, delta in pointdeltas.items():\n",
        "        if player in rankings[\"player\"]:\n",
        "            idx = rankings[\"player\"].index(player)\n",
        "            rankings[\"points\"][idx] += delta\n",
        "        else:\n",
        "            # Add player dynamically if not found in the original rankings\n",
        "            rankings[\"player\"].append(player)\n",
        "            rankings[\"points\"].append(delta)\n",
        "\n",
        "    # Sort rankings based on total points\n",
        "    sorted_rankings = sorted(zip(rankings[\"player\"], rankings[\"points\"]), key=lambda x: x[1], reverse=True)\n",
        "    sorted_players, sorted_points = zip(*sorted_rankings)\n",
        "\n",
        "    # Update rankings dictionary with sorted data\n",
        "    updated_rankings = {\n",
        "        \"rank\": list(range(1, len(rankings[\"rank\"]) + 1)),\n",
        "        \"player\": list(sorted_players),\n",
        "        \"points\": list(sorted_points)\n",
        "    }\n",
        "\n",
        "    return updated_rankings\n",
        "\n"
      ],
      "metadata": {
        "id": "1tJ_kk-iTd4_"
      },
      "execution_count": 27,
      "outputs": []
    },
    {
      "cell_type": "code",
      "source": [
        "# genereates new pairwise probability matrix dataframe based on ranking points\n",
        "def gen_prob(n, rankings):\n",
        "    # Extract relevant data from the rankings dictionary\n",
        "    players = rankings[\"player\"][:n]\n",
        "    points = rankings[\"points\"][:n]\n",
        "\n",
        "    # Create a DataFrame to store pairwise probabilities\n",
        "    prob_matrix = pd.DataFrame(index=players, columns=players)\n",
        "\n",
        "    # Calculate pairwise probabilities based on player points\n",
        "    for i, player1 in enumerate(players):\n",
        "        for j, player2 in enumerate(players):\n",
        "            if i != j:\n",
        "                prob_matrix.loc[player1, player2] = points[i] / (points[i] + points[j])\n",
        "\n",
        "    # Fill diagonal with 0.5 (each player against themselves)\n",
        "    prob_matrix.fillna(0.5, inplace=True)\n",
        "\n",
        "    return prob_matrix\n",
        "\n",
        "# Example usage\n",
        "n = 16  # Number of players\n",
        "pairwise_prob_df = gen_prob(n, rankings)\n",
        "print(pairwise_prob_df)\n"
      ],
      "metadata": {
        "colab": {
          "base_uri": "https://localhost:8080/"
        },
        "outputId": "1b824235-bccc-4256-f97a-dc6ceb7fb079",
        "id": "7e2z4BSbIZaA"
      },
      "execution_count": 28,
      "outputs": [
        {
          "output_type": "stream",
          "name": "stdout",
          "text": [
            "                    Novak Djokovic  Carlos Alcaraz  Jannik Sinner  \\\n",
            "Novak Djokovic            0.500000        0.523539       0.539147   \n",
            "Carlos Alcaraz            0.476461        0.500000       0.515666   \n",
            "Jannik Sinner             0.460853        0.484334       0.500000   \n",
            "Daniil Medvedev           0.443646        0.467010       0.482640   \n",
            "Andrey Rublev             0.341164        0.362649       0.377259   \n",
            "Alexander Zverev          0.338462        0.359869       0.374433   \n",
            "Holger Rune               0.277716        0.297006       0.310259   \n",
            "Hubert Hurkacz            0.260321        0.278870       0.291649   \n",
            "Casper Ruud               0.260321        0.278870       0.291649   \n",
            "Alex de Minaur            0.249127        0.267166       0.279617   \n",
            "Stefanos Tsitsipas        0.246789        0.264718       0.277098   \n",
            "Taylor Fritz              0.237589        0.255076       0.267169   \n",
            "Grigor Dimitrov           0.229391        0.246470       0.258296   \n",
            "Ugo Humbert               0.199752        0.215241       0.226018   \n",
            "Karen Khachanov           0.192067        0.207114       0.217597   \n",
            "Ben Shelton               0.181472        0.195890       0.205953   \n",
            "\n",
            "                    Daniil Medvedev  Andrey Rublev  Alexander Zverev  \\\n",
            "Novak Djokovic             0.556354       0.658836          0.661538   \n",
            "Carlos Alcaraz             0.532990       0.637351          0.640131   \n",
            "Jannik Sinner              0.517360       0.622741          0.625567   \n",
            "Daniil Medvedev            0.500000       0.606287          0.609159   \n",
            "Andrey Rublev              0.393713       0.500000          0.503012   \n",
            "Alexander Zverev           0.390841       0.496988          0.500000   \n",
            "Holger Rune                0.325317       0.426117          0.429066   \n",
            "Hubert Hurkacz             0.306205       0.404635          0.407540   \n",
            "Casper Ruud                0.306205       0.404635          0.407540   \n",
            "Alex de Minaur             0.293822       0.390511          0.393382   \n",
            "Stefanos Tsitsipas         0.291226       0.387531          0.390394   \n",
            "Taylor Fritz               0.280988       0.375701          0.378531   \n",
            "Grigor Dimitrov            0.271826       0.365019          0.367816   \n",
            "Ugo Humbert                0.238401       0.325253          0.327902   \n",
            "Karen Khachanov            0.229656       0.314637          0.317241   \n",
            "Ben Shelton                0.217546       0.299790          0.302326   \n",
            "\n",
            "                    Holger Rune  Hubert Hurkacz  Casper Ruud  Alex de Minaur  \\\n",
            "Novak Djokovic         0.722284        0.739679     0.739679        0.750873   \n",
            "Carlos Alcaraz         0.702994        0.721130     0.721130        0.732834   \n",
            "Jannik Sinner          0.689741        0.708351     0.708351        0.720383   \n",
            "Daniil Medvedev        0.674683        0.693795     0.693795        0.706178   \n",
            "Andrey Rublev          0.573883        0.595365     0.595365        0.609489   \n",
            "Alexander Zverev       0.570934        0.592460     0.592460        0.606618   \n",
            "Holger Rune            0.500000        0.522105     0.522105        0.536797   \n",
            "Hubert Hurkacz         0.477895        0.500000     0.500000        0.514739   \n",
            "Casper Ruud            0.477895        0.500000     0.500000        0.514739   \n",
            "Alex de Minaur         0.463203        0.485261     0.485261        0.500000   \n",
            "Stefanos Tsitsipas     0.460087        0.482129     0.482129        0.496865   \n",
            "Taylor Fritz           0.447661        0.469626     0.469626        0.484337   \n",
            "Grigor Dimitrov        0.436364        0.458234     0.458234        0.472906   \n",
            "Ugo Humbert            0.393643        0.414948     0.414948        0.429333   \n",
            "Karen Khachanov        0.382060        0.403155     0.403155        0.417423   \n",
            "Ben Shelton            0.365729        0.386486     0.386486        0.400560   \n",
            "\n",
            "                    Stefanos Tsitsipas  Taylor Fritz  Grigor Dimitrov  \\\n",
            "Novak Djokovic                0.753211      0.762411         0.770609   \n",
            "Carlos Alcaraz                0.735282      0.744924         0.753530   \n",
            "Jannik Sinner                 0.722902      0.732831         0.741704   \n",
            "Daniil Medvedev               0.708774      0.719012         0.728174   \n",
            "Andrey Rublev                 0.612469      0.624299         0.634981   \n",
            "Alexander Zverev              0.609606      0.621469         0.632184   \n",
            "Holger Rune                   0.539913      0.552339         0.563636   \n",
            "Hubert Hurkacz                0.517871      0.530374         0.541766   \n",
            "Casper Ruud                   0.517871      0.530374         0.541766   \n",
            "Alex de Minaur                0.503135      0.515663         0.527094   \n",
            "Stefanos Tsitsipas            0.500000      0.512530         0.523967   \n",
            "Taylor Fritz                  0.487470      0.500000         0.511450   \n",
            "Grigor Dimitrov               0.476033      0.488550         0.500000   \n",
            "Ugo Humbert                   0.432408      0.444751         0.456091   \n",
            "Karen Khachanov               0.420475      0.432738         0.444015   \n",
            "Ben Shelton                   0.403575      0.415698         0.426866   \n",
            "\n",
            "                    Ugo Humbert  Karen Khachanov  Ben Shelton  \n",
            "Novak Djokovic         0.800248         0.807933     0.818528  \n",
            "Carlos Alcaraz         0.784759         0.792886     0.804110  \n",
            "Jannik Sinner          0.773982         0.782403     0.794047  \n",
            "Daniil Medvedev        0.761599         0.770344     0.782454  \n",
            "Andrey Rublev          0.674747         0.685363     0.700210  \n",
            "Alexander Zverev       0.672098         0.682759     0.697674  \n",
            "Holger Rune            0.606357         0.617940     0.634271  \n",
            "Hubert Hurkacz         0.585052         0.596845     0.613514  \n",
            "Casper Ruud            0.585052         0.596845     0.613514  \n",
            "Alex de Minaur         0.570667         0.582577     0.599440  \n",
            "Stefanos Tsitsipas     0.567592         0.579525     0.596425  \n",
            "Taylor Fritz           0.555249         0.567262     0.584302  \n",
            "Grigor Dimitrov        0.543909         0.555985     0.573134  \n",
            "Ugo Humbert            0.500000         0.512195     0.529605  \n",
            "Karen Khachanov        0.487805         0.500000     0.517435  \n",
            "Ben Shelton            0.470395         0.482565     0.500000  \n"
          ]
        }
      ]
    },
    {
      "cell_type": "code",
      "source": [
        "# For each round, add list of losers in order to calculate ranking points gained\n",
        "# To be improved later\n",
        "losers_per_round = []\n",
        "\n",
        "# Simulates a tennis tournament comprised of list of players in rank order and with pairwise\n",
        "# player probability matrix\n",
        "def simulate_tournament(players, probm):\n",
        "\n",
        "    if len(players) == 1:\n",
        "        return players[0]  # Winner of the tournament\n",
        "\n",
        "    # Pair players for the current round, ensuring highest rank plays with lowest, etc.\n",
        "    matches = [(players[i], players[-(i + 1)]) for i in range(len(players) // 2)]\n",
        "\n",
        "    # Simulate matches for this round\n",
        "    winners = []\n",
        "    losers = []\n",
        "    for match in matches:\n",
        "        player1, player2 = match\n",
        "        # Get the probability of player1 winning against player2 from the probability matrix\n",
        "        win_probability = probm.loc[player1, player2]\n",
        "        if np.random.rand() < win_probability:\n",
        "            winners.append(player1)\n",
        "            losers.append(player2)\n",
        "        else:\n",
        "            winners.append(player2)\n",
        "            losers.append(player1)\n",
        "    losers_per_round.append(losers)\n",
        "    # Recursively simulate the next round\n",
        "    return simulate_tournament(winners, probm)\n",
        "\n",
        "\n"
      ],
      "metadata": {
        "id": "QWe_-P3vjOxT"
      },
      "execution_count": 29,
      "outputs": []
    },
    {
      "cell_type": "code",
      "source": [
        "# Based on list of losers per round, and a tournament winner, and a\n",
        "# list of points to be added to each loser per round, generates\n",
        "# a dictionary of players and points that should be added to their rankings.\n",
        "def gen_point_deltas(losers, winner, points):\n",
        "    # Initialize dictionary to store point deltas\n",
        "    point_deltas = {}\n",
        "\n",
        "    # Iterate through each list of losers and corresponding points\n",
        "    for i, losers_list in enumerate(losers):\n",
        "        for loser in losers_list:\n",
        "            point_deltas[loser] = points[i]\n",
        "\n",
        "    # Assign points to the winner\n",
        "    point_deltas[winner] = points[-1]\n",
        "\n",
        "    return point_deltas\n"
      ],
      "metadata": {
        "id": "qZGy0X2TuR2-"
      },
      "execution_count": 30,
      "outputs": []
    },
    {
      "cell_type": "code",
      "source": [
        "# Number of players per tournament\n",
        "tournaments = {\n",
        "    \"French Open\": 128,\n",
        "    \"Wimbledon\": 128,\n",
        "    \"US Open\": 128,\n",
        "    \"Australian Open\": 128\n",
        "}\n",
        "\n",
        "# Initialize rankings, tournament_info\n",
        "newrankings = rankings\n",
        "tournament_info = []\n",
        "\n",
        "#\n",
        "# Run simulation for the next 4 Grand Slam tournaments, updating\n",
        "# player ranks, pairwise probabilities, and draws after each\n",
        "# simulated tournament\n",
        "#\n",
        "# Steps:\n",
        "# gen probability matrix based on latests rankings\n",
        "# gen draw, sorted in rank order\n",
        "# reset losers_per_round = [] - to be improved later\n",
        "# run simulation for draw with prob matrix\n",
        "# calc point deltas for all players in tournament\n",
        "# update rankings\n",
        "# repeat\n",
        "for tournament, n in tournaments.items():\n",
        "    probm = gen_prob(n, newrankings)\n",
        "    draw = newrankings['player'][:n]\n",
        "    losers_per_round = []  # Each round of each tournament appends losers\n",
        "    winner = simulate_tournament(draw, probm)\n",
        "    points = get_tourpts('gslam')\n",
        "    point_deltas = gen_point_deltas(losers_per_round, winner, points)\n",
        "    newrankings = update_rankings(newrankings, point_deltas)\n",
        "\n",
        "    # Append tournament information to list\n",
        "    tournament_info.append([tournament, n, winner])\n",
        "\n",
        "# Print tournament information in a table format\n",
        "print(tabulate(tournament_info, headers=[\"Tournament\", \"Number of Players\", \"Winner\"]))\n"
      ],
      "metadata": {
        "colab": {
          "base_uri": "https://localhost:8080/"
        },
        "id": "laWi63oCD759",
        "outputId": "88e06a09-5800-4324-f4f9-d93c01ce8582"
      },
      "execution_count": 31,
      "outputs": [
        {
          "output_type": "stream",
          "name": "stdout",
          "text": [
            "Tournament         Number of Players  Winner\n",
            "---------------  -------------------  ------------------\n",
            "French Open                      128  Jannik Sinner\n",
            "Wimbledon                        128  Grigor Dimitrov\n",
            "US Open                          128  Daniil Medvedev\n",
            "Australian Open                  128  Stefanos Tsitsipas\n"
          ]
        }
      ]
    },
    {
      "cell_type": "markdown",
      "source": [
        "# Tournament Predictions using Mosteller"
      ],
      "metadata": {
        "id": "oZwIQ3jfNKf7"
      }
    },
    {
      "cell_type": "code",
      "source": [
        "\n",
        "def gen_mosteller_prob(rankings, p):\n",
        "    n = len(rankings[\"player\"])\n",
        "    players = rankings[\"player\"]\n",
        "    ranks = rankings[\"rank\"]\n",
        "\n",
        "    # Create an empty DataFrame to store the pairwise probabilities\n",
        "    prob_matrix = pd.DataFrame(index=players, columns=players)\n",
        "\n",
        "    # Fill the DataFrame with pairwise probabilities\n",
        "    for i in range(n):\n",
        "        for j in range(n):\n",
        "            if i == j:\n",
        "                prob_matrix.iloc[i, j] = 0.5  # Diagonal entries\n",
        "            else:\n",
        "                # Determine the probability based on the ranks\n",
        "                if ranks[i] < ranks[j]:\n",
        "                    prob_matrix.iloc[i, j] = p\n",
        "                else:\n",
        "                    prob_matrix.iloc[i, j] = 1 - p\n",
        "\n",
        "    return prob_matrix\n",
        "\n"
      ],
      "metadata": {
        "id": "fb2IRpajNJ7K"
      },
      "execution_count": 32,
      "outputs": []
    },
    {
      "cell_type": "code",
      "source": [
        "p_value = 0.93  # probability value of winning a match by better player in open era, from our previous Mosteller results\n",
        "mosteller_prob_matrix = gen_mosteller_prob(rankings, p_value)\n",
        "print(mosteller_prob_matrix)"
      ],
      "metadata": {
        "colab": {
          "base_uri": "https://localhost:8080/"
        },
        "id": "hYbwUHJ3Pl3l",
        "outputId": "5c80972f-0ef3-41e1-b571-be8b50da1024"
      },
      "execution_count": 33,
      "outputs": [
        {
          "output_type": "stream",
          "name": "stdout",
          "text": [
            "                     Novak Djokovic Carlos Alcaraz Jannik Sinner  \\\n",
            "Novak Djokovic                  0.5           0.93          0.93   \n",
            "Carlos Alcaraz                 0.07            0.5          0.93   \n",
            "Jannik Sinner                  0.07           0.07           0.5   \n",
            "Daniil Medvedev                0.07           0.07          0.07   \n",
            "Andrey Rublev                  0.07           0.07          0.07   \n",
            "...                             ...            ...           ...   \n",
            "Yosuke Watanuki                0.07           0.07          0.07   \n",
            "Michael Mmoh                   0.07           0.07          0.07   \n",
            "Otto Virtanen                  0.07           0.07          0.07   \n",
            "Camilo Ugo Carabelli           0.07           0.07          0.07   \n",
            "Liam Broady                    0.07           0.07          0.07   \n",
            "\n",
            "                     Daniil Medvedev Andrey Rublev Alexander Zverev  \\\n",
            "Novak Djokovic                  0.93          0.93             0.93   \n",
            "Carlos Alcaraz                  0.93          0.93             0.93   \n",
            "Jannik Sinner                   0.93          0.93             0.93   \n",
            "Daniil Medvedev                  0.5          0.93             0.93   \n",
            "Andrey Rublev                   0.07           0.5             0.93   \n",
            "...                              ...           ...              ...   \n",
            "Yosuke Watanuki                 0.07          0.07             0.07   \n",
            "Michael Mmoh                    0.07          0.07             0.07   \n",
            "Otto Virtanen                   0.07          0.07             0.07   \n",
            "Camilo Ugo Carabelli            0.07          0.07             0.07   \n",
            "Liam Broady                     0.07          0.07             0.07   \n",
            "\n",
            "                     Holger Rune Hubert Hurkacz Casper Ruud Alex de Minaur  \\\n",
            "Novak Djokovic              0.93           0.93        0.93           0.93   \n",
            "Carlos Alcaraz              0.93           0.93        0.93           0.93   \n",
            "Jannik Sinner               0.93           0.93        0.93           0.93   \n",
            "Daniil Medvedev             0.93           0.93        0.93           0.93   \n",
            "Andrey Rublev               0.93           0.93        0.93           0.93   \n",
            "...                          ...            ...         ...            ...   \n",
            "Yosuke Watanuki             0.07           0.07        0.07           0.07   \n",
            "Michael Mmoh                0.07           0.07        0.07           0.07   \n",
            "Otto Virtanen               0.07           0.07        0.07           0.07   \n",
            "Camilo Ugo Carabelli        0.07           0.07        0.07           0.07   \n",
            "Liam Broady                 0.07           0.07        0.07           0.07   \n",
            "\n",
            "                      ... Hamad Medjedovic Duje Ajdukovic Gregoire Barrere  \\\n",
            "Novak Djokovic        ...             0.93           0.93             0.93   \n",
            "Carlos Alcaraz        ...             0.93           0.93             0.93   \n",
            "Jannik Sinner         ...             0.93           0.93             0.93   \n",
            "Daniil Medvedev       ...             0.93           0.93             0.93   \n",
            "Andrey Rublev         ...             0.93           0.93             0.93   \n",
            "...                   ...              ...            ...              ...   \n",
            "Yosuke Watanuki       ...             0.07           0.07             0.07   \n",
            "Michael Mmoh          ...             0.07           0.07             0.07   \n",
            "Otto Virtanen         ...             0.07           0.07             0.07   \n",
            "Camilo Ugo Carabelli  ...             0.07           0.07             0.07   \n",
            "Liam Broady           ...             0.07           0.07             0.07   \n",
            "\n",
            "                     Zizou Bergs Luca Nardi Yosuke Watanuki Michael Mmoh  \\\n",
            "Novak Djokovic              0.93       0.93            0.93         0.93   \n",
            "Carlos Alcaraz              0.93       0.93            0.93         0.93   \n",
            "Jannik Sinner               0.93       0.93            0.93         0.93   \n",
            "Daniil Medvedev             0.93       0.93            0.93         0.93   \n",
            "Andrey Rublev               0.93       0.93            0.93         0.93   \n",
            "...                          ...        ...             ...          ...   \n",
            "Yosuke Watanuki             0.07       0.07             0.5         0.93   \n",
            "Michael Mmoh                0.07       0.07            0.07          0.5   \n",
            "Otto Virtanen               0.07       0.07            0.07         0.07   \n",
            "Camilo Ugo Carabelli        0.07       0.07            0.07         0.07   \n",
            "Liam Broady                 0.07       0.07            0.07         0.07   \n",
            "\n",
            "                     Otto Virtanen Camilo Ugo Carabelli Liam Broady  \n",
            "Novak Djokovic                0.93                 0.93        0.93  \n",
            "Carlos Alcaraz                0.93                 0.93        0.93  \n",
            "Jannik Sinner                 0.93                 0.93        0.93  \n",
            "Daniil Medvedev               0.93                 0.93        0.93  \n",
            "Andrey Rublev                 0.93                 0.93        0.93  \n",
            "...                            ...                  ...         ...  \n",
            "Yosuke Watanuki               0.93                 0.93        0.93  \n",
            "Michael Mmoh                  0.93                 0.93        0.93  \n",
            "Otto Virtanen                  0.5                 0.93        0.93  \n",
            "Camilo Ugo Carabelli          0.07                  0.5        0.93  \n",
            "Liam Broady                   0.07                 0.07         0.5  \n",
            "\n",
            "[128 rows x 128 columns]\n"
          ]
        }
      ]
    },
    {
      "cell_type": "code",
      "source": [
        "# Simulate uising Mosteller\n",
        "# Number of players per tournament\n",
        "tournaments = {\n",
        "    \"French Open\": 128,\n",
        "    \"Wimbledon\": 128,\n",
        "    \"US Open\": 128,\n",
        "    \"Australian Open\": 128\n",
        "}\n",
        "\n",
        "# Initialize rankings, tournament_info\n",
        "newrankings = rankings\n",
        "tournament_info = []\n",
        "\n",
        "#\n",
        "# Run simulation for the next 4 Grand Slam tournaments, updating\n",
        "# player ranks, pairwise probabilities, and draws after each\n",
        "# simulated tournament\n",
        "#\n",
        "# Steps:\n",
        "# gen probability matrix based on latests rankings\n",
        "# gen draw, sorted in rank order\n",
        "# reset losers_per_round = [] - to be improved later\n",
        "# run simulation for draw with prob matrix\n",
        "# calc point deltas for all players in tournament\n",
        "# update rankings\n",
        "# repeat\n",
        "for tournament, n in tournaments.items():\n",
        "    probm = mosteller_prob_matrix # Static probability matrix since from Mosteller\n",
        "    draw = newrankings['player'][:n]\n",
        "    losers_per_round = []  # Each round of each tournament appends losers\n",
        "    winner = simulate_tournament(draw, probm)\n",
        "    points = get_tourpts('gslam')\n",
        "    point_deltas = gen_point_deltas(losers_per_round, winner, points)\n",
        "    newrankings = update_rankings(newrankings, point_deltas)\n",
        "\n",
        "    # Append tournament information to list\n",
        "    tournament_info.append([tournament, n, winner])\n",
        "\n",
        "# Print tournament information in a table format\n",
        "print(tabulate(tournament_info, headers=[\"Tournament\", \"Number of Players\", \"Winner\"]))\n"
      ],
      "metadata": {
        "colab": {
          "base_uri": "https://localhost:8080/"
        },
        "outputId": "62de04ab-0fa4-4ee8-e609-2ab9f692a380",
        "id": "KcTDTVvNQKrS"
      },
      "execution_count": 34,
      "outputs": [
        {
          "output_type": "stream",
          "name": "stdout",
          "text": [
            "Tournament         Number of Players  Winner\n",
            "---------------  -------------------  --------------\n",
            "French Open                      128  Carlos Alcaraz\n",
            "Wimbledon                        128  Novak Djokovic\n",
            "US Open                          128  Novak Djokovic\n",
            "Australian Open                  128  Novak Djokovic\n"
          ]
        }
      ]
    },
    {
      "cell_type": "code",
      "source": [],
      "metadata": {
        "id": "1QNe2fm9UNnb"
      },
      "execution_count": null,
      "outputs": []
    }
  ]
}